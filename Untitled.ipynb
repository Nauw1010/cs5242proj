{
 "cells": [
  {
   "cell_type": "code",
   "execution_count": 19,
   "id": "12d33273-5b3a-4553-985a-5f0135293072",
   "metadata": {},
   "outputs": [
    {
     "name": "stdout",
     "output_type": "stream",
     "text": [
      "The autoreload extension is already loaded. To reload it, use:\n",
      "  %reload_ext autoreload\n"
     ]
    }
   ],
   "source": [
    "%load_ext autoreload\n",
    "%autoreload 2\n",
    "\n",
    "import torch\n",
    "from data_utils import WBCdataset, pRCCdataset\n",
    "from torchvision import transforms\n",
    "from torch.utils.data import DataLoader\n",
    "\n",
    "label_dict = {\n",
    "    'Basophil': 0,\n",
    "    'Eosinophil': 1,\n",
    "    'Lymphocyte': 2,\n",
    "    'Monocyte': 3,\n",
    "    'Neutrophil': 4,\n",
    "}\n",
    "\n",
    "data_transforms = [\n",
    "        transforms.ToTensor(), # Scales data into [0,1]\n",
    "    ]\n",
    "data_transform = transforms.Compose(data_transforms)\n",
    "\n",
    "WBC = WBCdataset(path_to_folder='../data/dataset/WBC_100/train', label_dict=label_dict, transform=data_transform)\n",
    "pRCC = pRCCdataset(path_to_folder='../data/dataset/pRCC_nolabel', transform=data_transform)"
   ]
  },
  {
   "cell_type": "code",
   "execution_count": 20,
   "id": "39d66fcf-e7e6-4b72-8527-30fc2b1888b5",
   "metadata": {},
   "outputs": [
    {
     "name": "stdout",
     "output_type": "stream",
     "text": [
      "(tensor([0.6843, 0.5012, 0.6436]), tensor([0.2148, 0.2623, 0.1969]))\n"
     ]
    }
   ],
   "source": [
    "def _get_stat(dataset):\n",
    "    loader = DataLoader(dataset, batch_size=10, num_workers=0, shuffle=False)\n",
    "    \n",
    "    mean = 0.\n",
    "    for images, _ in loader:\n",
    "        B = images.size(0) \n",
    "        images = images.view(B, images.size(1), -1)\n",
    "        mean += images.mean(2).sum(0)\n",
    "    \n",
    "    mean = mean / len(loader.dataset)\n",
    "    \n",
    "    var = 0.\n",
    "    for images, _ in loader:\n",
    "        B = images.size(0)\n",
    "        images = images.view(B, images.size(1), -1)\n",
    "        var += ((images - mean.unsqueeze(1))**2).mean(2).sum(0)\n",
    "    std = torch.sqrt(var / len(loader.dataset))\n",
    "    return mean, std\n",
    "    \n",
    "def _get_stat_2(dataset):\n",
    "    imgs = torch.stack([img_t for img_t, _ in dataset], dim=3)\n",
    "    mean = imgs.view(3, -1).mean(dim=1)\n",
    "    std = imgs.view(3, -1).std(dim=1)\n",
    "    return mean, std\n",
    "    \n",
    "print(_get_stat(pRCC))"
   ]
  },
  {
   "cell_type": "code",
   "execution_count": 3,
   "id": "f752eb8b-8e29-4498-b7bc-f9b8599e7c15",
   "metadata": {},
   "outputs": [
    {
     "data": {
      "text/plain": [
       "[tensor([[[[0.3765, 0.3843, 0.3765,  ..., 0.7333, 0.7373, 0.7373],\n",
       "           [0.3804, 0.3843, 0.3765,  ..., 0.7333, 0.7373, 0.7373],\n",
       "           [0.3843, 0.3765, 0.3686,  ..., 0.7333, 0.7333, 0.7333],\n",
       "           ...,\n",
       "           [0.6824, 0.6941, 0.7020,  ..., 0.5059, 0.5059, 0.5098],\n",
       "           [0.6902, 0.6941, 0.6980,  ..., 0.5020, 0.4980, 0.4980],\n",
       "           [0.6863, 0.6863, 0.6824,  ..., 0.5098, 0.5020, 0.4863]],\n",
       " \n",
       "          [[0.3490, 0.3569, 0.3490,  ..., 0.6706, 0.6745, 0.6745],\n",
       "           [0.3529, 0.3569, 0.3490,  ..., 0.6706, 0.6745, 0.6745],\n",
       "           [0.3569, 0.3490, 0.3412,  ..., 0.6706, 0.6706, 0.6706],\n",
       "           ...,\n",
       "           [0.6157, 0.6275, 0.6353,  ..., 0.4706, 0.4706, 0.4745],\n",
       "           [0.6235, 0.6275, 0.6314,  ..., 0.4667, 0.4627, 0.4627],\n",
       "           [0.6196, 0.6196, 0.6157,  ..., 0.4745, 0.4667, 0.4549]],\n",
       " \n",
       "          [[0.4706, 0.4784, 0.4706,  ..., 0.6118, 0.6157, 0.6157],\n",
       "           [0.4745, 0.4784, 0.4706,  ..., 0.6118, 0.6157, 0.6157],\n",
       "           [0.4784, 0.4706, 0.4627,  ..., 0.6118, 0.6118, 0.6118],\n",
       "           ...,\n",
       "           [0.5843, 0.5961, 0.6039,  ..., 0.5529, 0.5529, 0.5569],\n",
       "           [0.5922, 0.5961, 0.6000,  ..., 0.5490, 0.5451, 0.5451],\n",
       "           [0.5882, 0.5882, 0.5843,  ..., 0.5569, 0.5490, 0.5373]]]]),\n",
       " tensor([0])]"
      ]
     },
     "execution_count": 3,
     "metadata": {},
     "output_type": "execute_result"
    }
   ],
   "source": [
    "\n",
    "\n",
    "WBC_loader = DataLoader(WBC)\n",
    "\n",
    "next(iter(WBC_loader))"
   ]
  },
  {
   "cell_type": "code",
   "execution_count": 10,
   "id": "1b1bf30b-b4e5-4d02-9278-09faa6e8be88",
   "metadata": {},
   "outputs": [
    {
     "name": "stdout",
     "output_type": "stream",
     "text": [
      "tensor([[-0.1063, -0.3369,  0.2806,  0.3385, -0.0305]],\n",
      "       grad_fn=<AddmmBackward0>)\n"
     ]
    }
   ],
   "source": [
    "import torch\n",
    "from models import ViT\n",
    "\n",
    "v = ViT(\n",
    "    image_size = 256,\n",
    "    patch_size = 32,\n",
    "    num_classes = 5,\n",
    "    dim = 1024,\n",
    "    depth = 6,\n",
    "    heads = 16,\n",
    "    mlp_dim = 2048,\n",
    "    dropout = 0.1,\n",
    "    emb_dropout = 0.1\n",
    ")\n",
    "\n",
    "img = torch.randn(1, 3, 256, 256)\n",
    "\n",
    "preds = v(img)"
   ]
  },
  {
   "cell_type": "code",
   "execution_count": null,
   "id": "d1187da4-f1b5-45de-8faf-6e87b9444026",
   "metadata": {},
   "outputs": [],
   "source": []
  }
 ],
 "metadata": {
  "kernelspec": {
   "display_name": "Python 3 (ipykernel)",
   "language": "python",
   "name": "python3"
  },
  "language_info": {
   "codemirror_mode": {
    "name": "ipython",
    "version": 3
   },
   "file_extension": ".py",
   "mimetype": "text/x-python",
   "name": "python",
   "nbconvert_exporter": "python",
   "pygments_lexer": "ipython3",
   "version": "3.10.12"
  }
 },
 "nbformat": 4,
 "nbformat_minor": 5
}
